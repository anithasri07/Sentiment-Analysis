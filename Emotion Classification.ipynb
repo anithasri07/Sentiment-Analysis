{
 "cells": [
  {
   "cell_type": "code",
   "execution_count": 6,
   "id": "9cac38b1-6f8f-4a36-b274-b2f4964ec642",
   "metadata": {},
   "outputs": [
    {
     "name": "stdout",
     "output_type": "stream",
     "text": [
      "(5937, 2)\n",
      "                                             Comment Emotion\n",
      "0  i seriously hate one subject to death but now ...    fear\n",
      "1                 im so full of life i feel appalled   anger\n",
      "2  i sit here to write i start to dig out my feel...    fear\n",
      "3  ive been really angry with r and i feel like a...     joy\n",
      "4  i feel suspicious if there is no one outside l...    fear\n"
     ]
    }
   ],
   "source": [
    "#import pandas library\n",
    "import pandas as pd\n",
    "\n",
    "\n",
    "#read the dataset with name \"Emotion_classify_Data.csv\" and store it in a variable df\n",
    "df = pd.read_csv('Emotion_Classify_Data.csv')\n",
    "\n",
    "#print the shape of dataframe\n",
    "print(df.shape)\n",
    "\n",
    "\n",
    "#print top 5 rows\n",
    "print(df.head())"
   ]
  },
  {
   "cell_type": "code",
   "execution_count": 8,
   "id": "0c4342cb-e726-4d80-a3f1-b416c9e82b19",
   "metadata": {},
   "outputs": [
    {
     "data": {
      "text/plain": [
       "Emotion\n",
       "anger    2000\n",
       "joy      2000\n",
       "fear     1937\n",
       "Name: count, dtype: int64"
      ]
     },
     "execution_count": 8,
     "metadata": {},
     "output_type": "execute_result"
    }
   ],
   "source": [
    "#check the distribution of Emotion\n",
    "df.Emotion.value_counts()"
   ]
  },
  {
   "cell_type": "code",
   "execution_count": 10,
   "id": "8569a549-1cea-45a5-87da-1b420907a4fe",
   "metadata": {},
   "outputs": [
    {
     "data": {
      "text/html": [
       "<div>\n",
       "<style scoped>\n",
       "    .dataframe tbody tr th:only-of-type {\n",
       "        vertical-align: middle;\n",
       "    }\n",
       "\n",
       "    .dataframe tbody tr th {\n",
       "        vertical-align: top;\n",
       "    }\n",
       "\n",
       "    .dataframe thead th {\n",
       "        text-align: right;\n",
       "    }\n",
       "</style>\n",
       "<table border=\"1\" class=\"dataframe\">\n",
       "  <thead>\n",
       "    <tr style=\"text-align: right;\">\n",
       "      <th></th>\n",
       "      <th>Comment</th>\n",
       "      <th>Emotion</th>\n",
       "      <th>Emotion_num</th>\n",
       "    </tr>\n",
       "  </thead>\n",
       "  <tbody>\n",
       "    <tr>\n",
       "      <th>0</th>\n",
       "      <td>i seriously hate one subject to death but now ...</td>\n",
       "      <td>fear</td>\n",
       "      <td>1</td>\n",
       "    </tr>\n",
       "    <tr>\n",
       "      <th>1</th>\n",
       "      <td>im so full of life i feel appalled</td>\n",
       "      <td>anger</td>\n",
       "      <td>2</td>\n",
       "    </tr>\n",
       "    <tr>\n",
       "      <th>2</th>\n",
       "      <td>i sit here to write i start to dig out my feel...</td>\n",
       "      <td>fear</td>\n",
       "      <td>1</td>\n",
       "    </tr>\n",
       "    <tr>\n",
       "      <th>3</th>\n",
       "      <td>ive been really angry with r and i feel like a...</td>\n",
       "      <td>joy</td>\n",
       "      <td>0</td>\n",
       "    </tr>\n",
       "    <tr>\n",
       "      <th>4</th>\n",
       "      <td>i feel suspicious if there is no one outside l...</td>\n",
       "      <td>fear</td>\n",
       "      <td>1</td>\n",
       "    </tr>\n",
       "  </tbody>\n",
       "</table>\n",
       "</div>"
      ],
      "text/plain": [
       "                                             Comment Emotion  Emotion_num\n",
       "0  i seriously hate one subject to death but now ...    fear            1\n",
       "1                 im so full of life i feel appalled   anger            2\n",
       "2  i sit here to write i start to dig out my feel...    fear            1\n",
       "3  ive been really angry with r and i feel like a...     joy            0\n",
       "4  i feel suspicious if there is no one outside l...    fear            1"
      ]
     },
     "execution_count": 10,
     "metadata": {},
     "output_type": "execute_result"
    }
   ],
   "source": [
    "#Add the new column \"Emotion_num\" which gives a unique number to each of these Emotions\n",
    "#joy --> 0, fear --> 1, anger --> 2\n",
    "\n",
    "target= {'joy': 0, 'fear': 1, 'anger': 2}\n",
    "df['Emotion_num']= df.Emotion.map(target)\n",
    "\n",
    "\n",
    "#checking the results by printing top 5 rows\n",
    "df.head()"
   ]
  },
  {
   "cell_type": "markdown",
   "id": "544ab0bb-7c21-4f31-ae97-59ecf9abf17f",
   "metadata": {},
   "source": [
    "# Modelling without Pre-processing Text data"
   ]
  },
  {
   "cell_type": "code",
   "execution_count": 14,
   "id": "bdd831dd-8163-4ffb-818d-f60ad1f2dea2",
   "metadata": {},
   "outputs": [],
   "source": [
    "from sklearn.model_selection import train_test_split\n",
    "X_train, X_test, y_train, y_test = train_test_split(df.Comment, df.Emotion_num, \n",
    "                                                    test_size=0.2,  stratify=df.Emotion_num , \n",
    "                                                    random_state= 2000)"
   ]
  },
  {
   "cell_type": "code",
   "execution_count": 15,
   "id": "74cae9f6-3b8a-40f4-ae76-25f26431a0bf",
   "metadata": {},
   "outputs": [
    {
     "name": "stdout",
     "output_type": "stream",
     "text": [
      "(1188,)\n",
      "(4749,)\n"
     ]
    }
   ],
   "source": [
    "print(X_test.shape)\n",
    "print(X_train.shape)"
   ]
  },
  {
   "cell_type": "code",
   "execution_count": 16,
   "id": "d89498c5-cbc0-4914-af7d-6b044aca4533",
   "metadata": {},
   "outputs": [
    {
     "data": {
      "text/plain": [
       "Emotion_num\n",
       "2    400\n",
       "0    400\n",
       "1    388\n",
       "Name: count, dtype: int64"
      ]
     },
     "execution_count": 16,
     "metadata": {},
     "output_type": "execute_result"
    }
   ],
   "source": [
    "y_test.value_counts()"
   ]
  },
  {
   "cell_type": "code",
   "execution_count": 17,
   "id": "61102926-45c3-4cd8-a901-0901ee0809b6",
   "metadata": {},
   "outputs": [
    {
     "data": {
      "text/plain": [
       "Emotion_num\n",
       "2    1600\n",
       "0    1600\n",
       "1    1549\n",
       "Name: count, dtype: int64"
      ]
     },
     "execution_count": 17,
     "metadata": {},
     "output_type": "execute_result"
    }
   ],
   "source": [
    "y_train.value_counts()"
   ]
  },
  {
   "cell_type": "code",
   "execution_count": 22,
   "id": "3e31e70d-eafc-43a2-bffb-76005af54b6b",
   "metadata": {},
   "outputs": [
    {
     "name": "stdout",
     "output_type": "stream",
     "text": [
      "              precision    recall  f1-score   support\n",
      "\n",
      "           0       0.50      0.15      0.23       400\n",
      "           1       0.37      0.79      0.50       388\n",
      "           2       0.47      0.28      0.35       400\n",
      "\n",
      "    accuracy                           0.40      1188\n",
      "   macro avg       0.45      0.41      0.36      1188\n",
      "weighted avg       0.45      0.40      0.36      1188\n",
      "\n"
     ]
    }
   ],
   "source": [
    "#import CountVectorizer, RandomForest, pipeline, classification_report from sklearn \n",
    "#using CountVectorizer with only trigrams\n",
    "from sklearn.feature_extraction.text import CountVectorizer\n",
    "from sklearn.pipeline import Pipeline\n",
    "from sklearn.ensemble import RandomForestClassifier\n",
    "from sklearn.metrics import classification_report\n",
    "\n",
    "\n",
    "# create a pipeline object\n",
    "clf = Pipeline([['Vectorization', CountVectorizer(ngram_range=(3,3))], \n",
    "               ['RF', RandomForestClassifier()]])\n",
    "\n",
    "# fit with X_train and y_train\n",
    "clf.fit(X_train, y_train)\n",
    "\n",
    "y_pred = clf.predict(X_test)\n",
    "\n",
    "# print the classfication report\n",
    "print(classification_report(y_test,\n",
    "    y_pred))"
   ]
  },
  {
   "cell_type": "code",
   "execution_count": 23,
   "id": "39b8bf02-dc83-4e78-94aa-97039135ebb5",
   "metadata": {},
   "outputs": [
    {
     "name": "stdout",
     "output_type": "stream",
     "text": [
      "              precision    recall  f1-score   support\n",
      "\n",
      "           0       0.98      0.97      0.98       400\n",
      "           1       0.98      0.98      0.98       388\n",
      "           2       0.97      0.98      0.98       400\n",
      "\n",
      "    accuracy                           0.98      1188\n",
      "   macro avg       0.98      0.98      0.98      1188\n",
      "weighted avg       0.98      0.98      0.98      1188\n",
      "\n"
     ]
    }
   ],
   "source": [
    "# use Multinomial Naive Bayes as the classifier\n",
    "from sklearn.feature_extraction.text import CountVectorizer\n",
    "from sklearn.pipeline import Pipeline\n",
    "from sklearn.naive_bayes import MultinomialNB\n",
    "from sklearn.metrics import classification_report\n",
    "\n",
    "\n",
    "# create a pipeline object\n",
    "clf = Pipeline([['Vectorization', CountVectorizer()], \n",
    "               ['nb', MultinomialNB()]])\n",
    "\n",
    "# fit with X_train and y_train\n",
    "clf.fit(X_test, y_test)\n",
    "\n",
    "y_pred = clf.predict(X_test)\n",
    "\n",
    "# print the classfication report\n",
    "print(classification_report(y_test,\n",
    "    y_pred))"
   ]
  },
  {
   "cell_type": "code",
   "execution_count": 24,
   "id": "15e82ea2-c4e8-4e30-a468-b946c10ffcc3",
   "metadata": {},
   "outputs": [
    {
     "name": "stdout",
     "output_type": "stream",
     "text": [
      "              precision    recall  f1-score   support\n",
      "\n",
      "           0       0.84      0.96      0.90       400\n",
      "           1       0.94      0.85      0.89       388\n",
      "           2       0.92      0.86      0.89       400\n",
      "\n",
      "    accuracy                           0.89      1188\n",
      "   macro avg       0.90      0.89      0.89      1188\n",
      "weighted avg       0.90      0.89      0.89      1188\n",
      "\n"
     ]
    }
   ],
   "source": [
    "#using CountVectorizer with both unigram and Bigrams . use RandomForest as the classifier.\n",
    "# create a pipeline object\n",
    "clf = Pipeline([['Vectorization', CountVectorizer(ngram_range=(1,3))], \n",
    "               ['RF', RandomForestClassifier()]])\n",
    "\n",
    "# fit with X_train and y_train\n",
    "clf.fit(X_train, y_train)\n",
    "\n",
    "y_pred = clf.predict(X_test)\n",
    "\n",
    "# print the classfication report\n",
    "print(classification_report(y_test,\n",
    "    y_pred))"
   ]
  },
  {
   "cell_type": "code",
   "execution_count": 25,
   "id": "a7ccc197-f239-4e09-bfdb-9f1c8ab633f5",
   "metadata": {},
   "outputs": [
    {
     "name": "stdout",
     "output_type": "stream",
     "text": [
      "              precision    recall  f1-score   support\n",
      "\n",
      "           0       0.91      0.95      0.93       400\n",
      "           1       0.94      0.90      0.92       388\n",
      "           2       0.92      0.91      0.91       400\n",
      "\n",
      "    accuracy                           0.92      1188\n",
      "   macro avg       0.92      0.92      0.92      1188\n",
      "weighted avg       0.92      0.92      0.92      1188\n",
      "\n"
     ]
    }
   ],
   "source": [
    "# using TF-IDF vectorizer for Pre-processing the text\n",
    "# use RandomForest as the classifier\n",
    "\n",
    "#import TfidfVectorizer from sklearn\n",
    "from sklearn.feature_extraction.text import TfidfVectorizer\n",
    "\n",
    "\n",
    "#1. create a pipeline object\n",
    "clf = Pipeline([['Vectorization', CountVectorizer()], \n",
    "               ['RF', RandomForestClassifier()]])\n",
    "\n",
    "\n",
    "\n",
    "#2. fit with X_train and y_train\n",
    "clf.fit(X_train, y_train)\n",
    "\n",
    "\n",
    "#3. get the predictions for X_test and store it in y_pred\n",
    "y_pred= clf.predict(X_test)\n",
    "\n",
    "#4. print the classfication report\n",
    "print(classification_report(y_test,\n",
    "    y_pred))"
   ]
  },
  {
   "cell_type": "raw",
   "id": "476f25ec-1178-4473-b2f0-9dbadef08be4",
   "metadata": {
    "jp-MarkdownHeadingCollapsed": true
   },
   "source": [
    "# Use text pre-processing to remove stop words, punctuations and apply lemmatization"
   ]
  },
  {
   "cell_type": "code",
   "execution_count": 26,
   "id": "e5f45495-7bdc-468b-be56-bd12190edebd",
   "metadata": {},
   "outputs": [],
   "source": [
    "import spacy\n",
    "\n",
    "# load english language model and create nlp object from it\n",
    "nlp = spacy.load(\"en_core_web_sm\") \n",
    "\n",
    "\n",
    "#use this utility function to get the preprocessed text data\n",
    "def preprocess(text):\n",
    "    # remove stop words and lemmatize the text\n",
    "    doc = nlp(text)\n",
    "    filtered_tokens = []\n",
    "    for token in doc:\n",
    "        if token.is_stop or token.is_punct:\n",
    "            continue\n",
    "        filtered_tokens.append(token.lemma_)\n",
    "    \n",
    "    return \" \".join(filtered_tokens) "
   ]
  },
  {
   "cell_type": "code",
   "execution_count": 27,
   "id": "a6202ceb-faf0-4ec9-9e48-f667f758df06",
   "metadata": {},
   "outputs": [],
   "source": [
    "# create a new column \"preprocessed_comment\" and use the utility function above to get the clean data\n",
    "# this will take some time, please be patient"
   ]
  },
  {
   "cell_type": "markdown",
   "id": "53aee9fd-5661-4906-8ca1-76fae6fd2c3e",
   "metadata": {},
   "source": [
    "# Build a model with pre processed text"
   ]
  },
  {
   "cell_type": "code",
   "execution_count": 31,
   "id": "5a956559-91d2-4255-a0be-815ce81705b7",
   "metadata": {},
   "outputs": [],
   "source": [
    "# import train-test-split from sklearn\n",
    "import sklearn\n",
    "from sklearn.model_selection import train_test_split\n",
    "\n",
    "\n",
    "# Do the 'train-test' splitting with test size of 20% with random state of 2022 and stratify sampling too\n",
    "X_train, X_test, y_train, y_test= train_test_split(df.Comment, df.Emotion_num, \n",
    "                                                   test_size=0.2, random_state= 20, \n",
    "                                                   stratify= df.Emotion_num)"
   ]
  },
  {
   "cell_type": "code",
   "execution_count": 32,
   "id": "3787464a-97a0-453e-9abe-38577a2f477d",
   "metadata": {},
   "outputs": [
    {
     "name": "stdout",
     "output_type": "stream",
     "text": [
      "              precision    recall  f1-score   support\n",
      "\n",
      "           0       0.83      0.94      0.88       400\n",
      "           1       0.91      0.87      0.89       388\n",
      "           2       0.93      0.85      0.89       400\n",
      "\n",
      "    accuracy                           0.89      1188\n",
      "   macro avg       0.89      0.89      0.89      1188\n",
      "weighted avg       0.89      0.89      0.89      1188\n",
      "\n"
     ]
    }
   ],
   "source": [
    "#using CountVectorizer with both unigram and Bigrams . use RandomForest as the classifier.\n",
    "# create a pipeline object\n",
    "\n",
    "clf = Pipeline([['Vectorization', CountVectorizer(ngram_range=(1,3))], \n",
    "               ['RF', RandomForestClassifier()]])\n",
    "\n",
    "# fit with X_train and y_train\n",
    "clf.fit(X_train, y_train)\n",
    "\n",
    "y_pred = clf.predict(X_test)\n",
    "\n",
    "# print the classfication report\n",
    "print(classification_report(y_test,\n",
    "    y_pred))"
   ]
  },
  {
   "cell_type": "code",
   "execution_count": null,
   "id": "993823e3-4ed2-451e-9e91-2b10d9717571",
   "metadata": {},
   "outputs": [],
   "source": []
  }
 ],
 "metadata": {
  "kernelspec": {
   "display_name": "Python 3 (ipykernel)",
   "language": "python",
   "name": "python3"
  },
  "language_info": {
   "codemirror_mode": {
    "name": "ipython",
    "version": 3
   },
   "file_extension": ".py",
   "mimetype": "text/x-python",
   "name": "python",
   "nbconvert_exporter": "python",
   "pygments_lexer": "ipython3",
   "version": "3.11.0"
  }
 },
 "nbformat": 4,
 "nbformat_minor": 5
}
